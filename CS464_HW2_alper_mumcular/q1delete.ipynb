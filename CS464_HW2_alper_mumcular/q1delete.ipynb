{
 "cells": [
  {
   "cell_type": "code",
   "execution_count": 1,
   "id": "416b335c",
   "metadata": {},
   "outputs": [],
   "source": [
    "#Alper Mumcular\n",
    "#21902740\n",
    "#CS464 - HW2\n",
    "\n",
    "# To delete the created files\n",
    "import os\n",
    "\n",
    "for i in range(1, 11):\n",
    "    if os.path.exists(\"./eigen_cat\" + str(i) + \".jpg\"):\n",
    "        os.remove(\"./eigen_cat\" + str(i) + \".jpg\")\n",
    "    \n",
    "for i in [1, 50, 250, 500, 1000, 4096]:\n",
    "    if os.path.exists(\"./reconstruction_\" + str(i) + \".jpg\"):\n",
    "        os.remove(\"./reconstruction_\" + str(i) + \".jpg\")"
   ]
  },
  {
   "cell_type": "code",
   "execution_count": null,
   "id": "32afae5a",
   "metadata": {},
   "outputs": [],
   "source": []
  }
 ],
 "metadata": {
  "kernelspec": {
   "display_name": "Python 3 (ipykernel)",
   "language": "python",
   "name": "python3"
  },
  "language_info": {
   "codemirror_mode": {
    "name": "ipython",
    "version": 3
   },
   "file_extension": ".py",
   "mimetype": "text/x-python",
   "name": "python",
   "nbconvert_exporter": "python",
   "pygments_lexer": "ipython3",
   "version": "3.9.16"
  }
 },
 "nbformat": 4,
 "nbformat_minor": 5
}
